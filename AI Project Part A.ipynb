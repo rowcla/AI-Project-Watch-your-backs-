{
 "cells": [
  {
   "cell_type": "code",
   "execution_count": 77,
   "metadata": {},
   "outputs": [],
   "source": [
    "# Counts available moves for pieces of colour a, with the opposing team being represented by b\n",
    "def Moves(brd, a, b):\n",
    "    count=0\n",
    "    i=0\n",
    "    # Loop through the board, checking for pieces we want to check the moves for\n",
    "    for row in brd:\n",
    "        j=0\n",
    "        for space in row:\n",
    "            if space==b:\n",
    "                # Once we've found a valid piece, check in each direction, but only if there's board left in that direction\n",
    "                if i!=0:\n",
    "                    # We know we can't move if the piece to our side is a cornor\n",
    "                    if brd[i-1][j]!=\"X\":\n",
    "                        if brd[i-1][j]!=\"-\":\n",
    "                            #  If there's no valid space on the other side of the piece we want to jump, we deincrement\n",
    "                            if i==1 or brd[i-2][j]!=\"-\":\n",
    "                                count-=1\n",
    "                        # Increment in all cases except for the first test case, since we deincrement if it's invalid anyway        \n",
    "                        count+=1\n",
    "                # Repeat for each direction        \n",
    "                if i!=7:\n",
    "                    if brd[i+1][j]!=\"X\":\n",
    "                        if brd[i+1][j]!=\"-\":\n",
    "                            if i==6:\n",
    "                                count-=1\n",
    "                            elif brd[i+2][j]!=\"-\":\n",
    "                                    count-=1\n",
    "                        count+=1\n",
    "                if j!=0:\n",
    "                    if brd[i][j-1]!=\"X\":\n",
    "                        if brd[i][j-1]!=\"-\":\n",
    "                            if j==1 or brd[i][j-2]!=\"-\":\n",
    "                                count-=1\n",
    "                        count+=1\n",
    "                if j!=7:\n",
    "                    if brd[i][j+1]!=\"X\":\n",
    "                        if brd[i][j+1]!=\"-\":\n",
    "                            if j==6:\n",
    "                                count-=1\n",
    "                            elif brd[i][j+2]!=\"-\":\n",
    "                                    count-=1\n",
    "                        count+=1\n",
    "            j+=1\n",
    "        i+=1\n",
    "    # finally, print out the result    \n",
    "    print(count)"
   ]
  },
  {
   "cell_type": "code",
   "execution_count": 79,
   "metadata": {},
   "outputs": [
    {
     "name": "stdout",
     "output_type": "stream",
     "text": [
      "move-sample-3.in\n",
      "21\n",
      "21\n"
     ]
    }
   ],
   "source": [
    "# Open the board state file, based on the user input\n",
    "file=open(input(),\"r\")\n",
    "board=file.read()\n",
    "# Split each line into rows, then each row into spaces\n",
    "board=board.splitlines()\n",
    "i=0\n",
    "for line in board:\n",
    "    board[i]=line.split()\n",
    "    i+=1\n",
    "# Record the desired action to take on the board    \n",
    "action=board[8][0]\n",
    "# Remove the action line, so the board is only the board\n",
    "del board[-1]\n",
    "# Run commands as required\n",
    "if action==\"Massacre\":\n",
    "    Massacre(board)\n",
    "if action==\"Moves\":\n",
    "    # Since the Moves function takes each side individually, run it for both sides\n",
    "    Moves(board, \"O\", \"@\")\n",
    "    Moves(board, \"@\", \"O\")"
   ]
  },
  {
   "cell_type": "code",
   "execution_count": null,
   "metadata": {},
   "outputs": [],
   "source": []
  }
 ],
 "metadata": {
  "kernelspec": {
   "display_name": "Python 3",
   "language": "python",
   "name": "python3"
  },
  "language_info": {
   "codemirror_mode": {
    "name": "ipython",
    "version": 3
   },
   "file_extension": ".py",
   "mimetype": "text/x-python",
   "name": "python",
   "nbconvert_exporter": "python",
   "pygments_lexer": "ipython3",
   "version": "3.6.4"
  }
 },
 "nbformat": 4,
 "nbformat_minor": 2
}
